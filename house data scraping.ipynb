{
 "cells": [
  {
   "cell_type": "code",
   "execution_count": 12,
   "id": "dda96e62",
   "metadata": {},
   "outputs": [],
   "source": [
    "from bs4 import BeautifulSoup as bs"
   ]
  },
  {
   "cell_type": "code",
   "execution_count": 13,
   "id": "0aff1c1e",
   "metadata": {},
   "outputs": [],
   "source": [
    "import requests"
   ]
  },
  {
   "cell_type": "code",
   "execution_count": 14,
   "id": "8557708e",
   "metadata": {},
   "outputs": [],
   "source": [
    "r = requests.get(\"https://www.realtor.ca/real-estate/24083028/63-via-nova-dr-vaughan-east-woodbridge\")"
   ]
  },
  {
   "cell_type": "code",
   "execution_count": 18,
   "id": "1900c27a",
   "metadata": {},
   "outputs": [],
   "source": [
    "soup = bs(r.content)"
   ]
  },
  {
   "cell_type": "code",
   "execution_count": 16,
   "id": "d4fb5e5b",
   "metadata": {},
   "outputs": [],
   "source": [
    "contents = soup.prettify()"
   ]
  },
  {
   "cell_type": "code",
   "execution_count": 19,
   "id": "7fa08cf4",
   "metadata": {},
   "outputs": [
    {
     "name": "stdout",
     "output_type": "stream",
     "text": [
      "<html style=\"height:100%\"><head><meta content=\"NOINDEX, NOFOLLOW\" name=\"ROBOTS\"/><meta content=\"telephone=no\" name=\"format-detection\"/><meta content=\"initial-scale=1.0\" name=\"viewport\"/><meta content=\"IE=edge,chrome=1\" http-equiv=\"X-UA-Compatible\"/><script src=\"/_Incapsula_Resource?SWJIYLWA=719d34d31c8e3a6e6fffd425f7e032f3\" type=\"text/javascript\"></script><script async=\"\" src=\"/dnight-Exit-shall-Braith-Then-why-vponst-is-proc\"></script></head><body style=\"margin:0px;height:100%\"><iframe frameborder=\"0\" height=\"100%\" id=\"main-iframe\" marginheight=\"0px\" marginwidth=\"0px\" src=\"/_Incapsula_Resource?SWUDNSAI=31&amp;xinfo=12-9444713-0%20NNNN%20RT%281646593873406%20350%29%20q%280%20-1%20-1%200%29%20r%280%20-1%29%20B12%2814%2c0%2c0%29%20U18&amp;incident_id=1444000290007823527-28188029372073804&amp;edet=12&amp;cinfo=0e0000000609&amp;rpinfo=0&amp;cts=hM%2f801%2fYRrzYRbJTavtokM446N99VaCKLShWKrgyRVEQlmxNXMb8FWHoqldQ5ZVU&amp;mth=GET\" width=\"100%\">Request unsuccessful. Incapsula incident ID: 1444000290007823527-28188029372073804</iframe></body></html>\n"
     ]
    }
   ],
   "source": [
    "login_url = 'https://housesigma.com/web/en/login'"
   ]
  },
  {
   "cell_type": "code",
   "execution_count": null,
   "id": "68720dc6",
   "metadata": {},
   "outputs": [],
   "source": []
  }
 ],
 "metadata": {
  "kernelspec": {
   "display_name": "Python 3 (ipykernel)",
   "language": "python",
   "name": "python3"
  },
  "language_info": {
   "codemirror_mode": {
    "name": "ipython",
    "version": 3
   },
   "file_extension": ".py",
   "mimetype": "text/x-python",
   "name": "python",
   "nbconvert_exporter": "python",
   "pygments_lexer": "ipython3",
   "version": "3.7.12"
  }
 },
 "nbformat": 4,
 "nbformat_minor": 5
}
